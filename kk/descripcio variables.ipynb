{
 "cells": [
  {
   "cell_type": "markdown",
   "metadata": {},
   "source": [
    "<div style=\"width: 100%; clear: both;\">\n",
    "<div style=\"float: left; width: 50%;\">\n",
    "<img src=\"http://www.uoc.edu/portal/_resources/common/imatges/marca_UOC/UOC_Masterbrand.jpg\", align=\"left\">\n",
    "</div>\n",
    "<div style=\"float: right; width: 50%;\">\n",
    "<p style=\"margin: 0; padding-top: 22px; text-align:right;\">M2.955 · Models avançats de mineria de dades · PAC2</p>\n",
    "<p style=\"margin: 0; text-align:right;\">2020-1 · Màster universitari en Ciència de dades (Data science)</p>\n",
    "<p style=\"margin: 0; text-align:right; padding-button: 100px;\">Estudis d'Informàtica, Multimèdia i Telecomunicació</p>\n",
    "</div>\n",
    "</div>\n",
    "<div style=\"width:100%;\">&nbsp;</div>\n",
    "\n",
    "\n",
    "# PAC 2: Mètodes no supervisats\n",
    "\n",
    "Al llarg d'aquesta pràctica veurem com aplicar diferents tècniques no supervisades \n",
    "així com algunes de les aplicacions reals:\n",
    "\n",
    " - **Clustering amb diferents estratègies**: k-means i regla del colze, basades en densitat i jeràrquiques.\n",
    " - **Optimització amb reducció de dimensionalitat**: t-SNE.\n",
    " - **Aplicació**: identificació de punts d'interés turístics."
   ]
  },
  {
   "cell_type": "markdown",
   "metadata": {},
   "source": [
    "\n",
    "\n",
    "\n",
    "<div style=\"background-color: #EDF7FF; border-color: #7C9DBF; border-left: 5px solid #7C9DBF; padding: 0.5em;\">\n",
    "<strong>Nom i cognoms:</strong>\n",
    "</div>"
   ]
  },
  {
   "cell_type": "markdown",
   "metadata": {},
   "source": [
    "Pol Bieto Luengo"
   ]
  },
  {
   "cell_type": "code",
   "execution_count": 357,
   "metadata": {},
   "outputs": [],
   "source": [
    "import geopandas as gpd\n",
    "import pandas as pd"
   ]
  },
  {
   "cell_type": "code",
   "execution_count": 358,
   "metadata": {},
   "outputs": [],
   "source": [
    "unitats_adms = gpd.read_file('0301100100_UNITATS_ADM_POLIGONS.json')\n",
    "barris = unitats_adms[unitats_adms['TIPUS_UA']=='BARRI']\n",
    "barris.to_file(\"barris.json\", driver=\"GeoJSON\")\n",
    "\n"
   ]
  },
  {
   "cell_type": "markdown",
   "metadata": {},
   "source": [
    "### Eliminació de files duplicades\n",
    "\n",
    "L'eliminació de files duplicades la portarem a terme en base a la variable link. Si tenim dues o més observacions \n",
    "del mateix pis de la web de Fotocasa, ens quedarem únicament amb la primera:\n"
   ]
  },
  {
   "cell_type": "code",
   "execution_count": 359,
   "metadata": {},
   "outputs": [
    {
     "data": {
      "text/html": [
       "<div>\n",
       "<style scoped>\n",
       "    .dataframe tbody tr th:only-of-type {\n",
       "        vertical-align: middle;\n",
       "    }\n",
       "\n",
       "    .dataframe tbody tr th {\n",
       "        vertical-align: top;\n",
       "    }\n",
       "\n",
       "    .dataframe thead th {\n",
       "        text-align: right;\n",
       "    }\n",
       "</style>\n",
       "<table border=\"1\" class=\"dataframe\">\n",
       "  <thead>\n",
       "    <tr style=\"text-align: right;\">\n",
       "      <th></th>\n",
       "      <th>id</th>\n",
       "      <th>address</th>\n",
       "      <th>bathrooms</th>\n",
       "      <th>building_subtype</th>\n",
       "      <th>building_type</th>\n",
       "      <th>conservation_state</th>\n",
       "      <th>date</th>\n",
       "      <th>discount</th>\n",
       "      <th>floor_elevator</th>\n",
       "      <th>is_new_construction</th>\n",
       "      <th>...</th>\n",
       "      <th>link</th>\n",
       "      <th>longitude</th>\n",
       "      <th>price</th>\n",
       "      <th>realestate</th>\n",
       "      <th>realestate_id</th>\n",
       "      <th>rooms</th>\n",
       "      <th>sqft_m2</th>\n",
       "      <th>neighbourhood</th>\n",
       "      <th>id_neighbourhood</th>\n",
       "      <th>neighb_meanprice</th>\n",
       "    </tr>\n",
       "  </thead>\n",
       "  <tbody>\n",
       "    <tr>\n",
       "      <th>39</th>\n",
       "      <td>39</td>\n",
       "      <td>Carrer de Picalquers, El Raval</td>\n",
       "      <td>1</td>\n",
       "      <td>Apartment</td>\n",
       "      <td>Flat</td>\n",
       "      <td>NaN</td>\n",
       "      <td>2020-12-14</td>\n",
       "      <td>0</td>\n",
       "      <td>0</td>\n",
       "      <td>False</td>\n",
       "      <td>...</td>\n",
       "      <td>/es/alquiler/vivienda/barcelona-capital/el-rav...</td>\n",
       "      <td>2.168707</td>\n",
       "      <td>525.0</td>\n",
       "      <td>INVERSIONES INMOBILIARIAS Y FINANCIERAS SANT A...</td>\n",
       "      <td>9202758138526</td>\n",
       "      <td>0</td>\n",
       "      <td>35</td>\n",
       "      <td>el raval</td>\n",
       "      <td>1.0</td>\n",
       "      <td>14.323614</td>\n",
       "    </tr>\n",
       "    <tr>\n",
       "      <th>40</th>\n",
       "      <td>40</td>\n",
       "      <td>Carrer de Picalquers, El Raval</td>\n",
       "      <td>1</td>\n",
       "      <td>Apartment</td>\n",
       "      <td>Flat</td>\n",
       "      <td>NaN</td>\n",
       "      <td>2020-12-14</td>\n",
       "      <td>0</td>\n",
       "      <td>0</td>\n",
       "      <td>False</td>\n",
       "      <td>...</td>\n",
       "      <td>/es/alquiler/vivienda/barcelona-capital/el-rav...</td>\n",
       "      <td>2.168707</td>\n",
       "      <td>525.0</td>\n",
       "      <td>INVERSIONES INMOBILIARIAS Y FINANCIERAS SANT A...</td>\n",
       "      <td>9202758138526</td>\n",
       "      <td>0</td>\n",
       "      <td>35</td>\n",
       "      <td>el raval</td>\n",
       "      <td>1.0</td>\n",
       "      <td>14.323614</td>\n",
       "    </tr>\n",
       "    <tr>\n",
       "      <th>41</th>\n",
       "      <td>41</td>\n",
       "      <td>Carrer de Picalquers, El Raval</td>\n",
       "      <td>1</td>\n",
       "      <td>Apartment</td>\n",
       "      <td>Flat</td>\n",
       "      <td>NaN</td>\n",
       "      <td>2020-12-14</td>\n",
       "      <td>0</td>\n",
       "      <td>0</td>\n",
       "      <td>False</td>\n",
       "      <td>...</td>\n",
       "      <td>/es/alquiler/vivienda/barcelona-capital/el-rav...</td>\n",
       "      <td>2.168707</td>\n",
       "      <td>525.0</td>\n",
       "      <td>INVERSIONES INMOBILIARIAS Y FINANCIERAS SANT A...</td>\n",
       "      <td>9202758138526</td>\n",
       "      <td>0</td>\n",
       "      <td>35</td>\n",
       "      <td>el raval</td>\n",
       "      <td>1.0</td>\n",
       "      <td>14.323614</td>\n",
       "    </tr>\n",
       "    <tr>\n",
       "      <th>42</th>\n",
       "      <td>42</td>\n",
       "      <td>Carrer de Picalquers, El Raval</td>\n",
       "      <td>1</td>\n",
       "      <td>Apartment</td>\n",
       "      <td>Flat</td>\n",
       "      <td>NaN</td>\n",
       "      <td>2020-12-14</td>\n",
       "      <td>0</td>\n",
       "      <td>0</td>\n",
       "      <td>False</td>\n",
       "      <td>...</td>\n",
       "      <td>/es/alquiler/vivienda/barcelona-capital/el-rav...</td>\n",
       "      <td>2.168707</td>\n",
       "      <td>525.0</td>\n",
       "      <td>INVERSIONES INMOBILIARIAS Y FINANCIERAS SANT A...</td>\n",
       "      <td>9202758138526</td>\n",
       "      <td>0</td>\n",
       "      <td>35</td>\n",
       "      <td>el raval</td>\n",
       "      <td>1.0</td>\n",
       "      <td>14.323614</td>\n",
       "    </tr>\n",
       "    <tr>\n",
       "      <th>43</th>\n",
       "      <td>43</td>\n",
       "      <td>Carrer de Picalquers, El Raval</td>\n",
       "      <td>1</td>\n",
       "      <td>Apartment</td>\n",
       "      <td>Flat</td>\n",
       "      <td>NaN</td>\n",
       "      <td>2020-12-14</td>\n",
       "      <td>0</td>\n",
       "      <td>0</td>\n",
       "      <td>False</td>\n",
       "      <td>...</td>\n",
       "      <td>/es/alquiler/vivienda/barcelona-capital/el-rav...</td>\n",
       "      <td>2.168707</td>\n",
       "      <td>525.0</td>\n",
       "      <td>INVERSIONES INMOBILIARIAS Y FINANCIERAS SANT A...</td>\n",
       "      <td>9202758138526</td>\n",
       "      <td>0</td>\n",
       "      <td>35</td>\n",
       "      <td>el raval</td>\n",
       "      <td>1.0</td>\n",
       "      <td>14.323614</td>\n",
       "    </tr>\n",
       "    <tr>\n",
       "      <th>...</th>\n",
       "      <td>...</td>\n",
       "      <td>...</td>\n",
       "      <td>...</td>\n",
       "      <td>...</td>\n",
       "      <td>...</td>\n",
       "      <td>...</td>\n",
       "      <td>...</td>\n",
       "      <td>...</td>\n",
       "      <td>...</td>\n",
       "      <td>...</td>\n",
       "      <td>...</td>\n",
       "      <td>...</td>\n",
       "      <td>...</td>\n",
       "      <td>...</td>\n",
       "      <td>...</td>\n",
       "      <td>...</td>\n",
       "      <td>...</td>\n",
       "      <td>...</td>\n",
       "      <td>...</td>\n",
       "      <td>...</td>\n",
       "      <td>...</td>\n",
       "    </tr>\n",
       "    <tr>\n",
       "      <th>11803</th>\n",
       "      <td>11803</td>\n",
       "      <td>Sarrià</td>\n",
       "      <td>2</td>\n",
       "      <td>Attic</td>\n",
       "      <td>Flat</td>\n",
       "      <td>1.0</td>\n",
       "      <td>2020-12-14</td>\n",
       "      <td>200</td>\n",
       "      <td>1</td>\n",
       "      <td>False</td>\n",
       "      <td>...</td>\n",
       "      <td>/es/alquiler/vivienda/barcelona-capital/aire-a...</td>\n",
       "      <td>2.121359</td>\n",
       "      <td>3700.0</td>\n",
       "      <td>Stipek Ferrer Premium Properties</td>\n",
       "      <td>9202765377715</td>\n",
       "      <td>4</td>\n",
       "      <td>280</td>\n",
       "      <td>sarrià</td>\n",
       "      <td>23.0</td>\n",
       "      <td>16.866645</td>\n",
       "    </tr>\n",
       "    <tr>\n",
       "      <th>11804</th>\n",
       "      <td>11804</td>\n",
       "      <td>Sarrià</td>\n",
       "      <td>2</td>\n",
       "      <td>Attic</td>\n",
       "      <td>Flat</td>\n",
       "      <td>1.0</td>\n",
       "      <td>2020-12-14</td>\n",
       "      <td>200</td>\n",
       "      <td>1</td>\n",
       "      <td>False</td>\n",
       "      <td>...</td>\n",
       "      <td>/es/alquiler/vivienda/barcelona-capital/aire-a...</td>\n",
       "      <td>2.121359</td>\n",
       "      <td>3700.0</td>\n",
       "      <td>Stipek Ferrer Premium Properties</td>\n",
       "      <td>9202765377715</td>\n",
       "      <td>4</td>\n",
       "      <td>280</td>\n",
       "      <td>sarrià</td>\n",
       "      <td>23.0</td>\n",
       "      <td>16.866645</td>\n",
       "    </tr>\n",
       "    <tr>\n",
       "      <th>12007</th>\n",
       "      <td>12007</td>\n",
       "      <td>Sant Gervasi- Galvany</td>\n",
       "      <td>5</td>\n",
       "      <td>Flat</td>\n",
       "      <td>Flat</td>\n",
       "      <td>2.0</td>\n",
       "      <td>2020-12-14</td>\n",
       "      <td>0</td>\n",
       "      <td>1</td>\n",
       "      <td>False</td>\n",
       "      <td>...</td>\n",
       "      <td>/es/alquiler/vivienda/barcelona-capital/aire-a...</td>\n",
       "      <td>2.141838</td>\n",
       "      <td>5300.0</td>\n",
       "      <td>Max Ricart</td>\n",
       "      <td>9202765879322</td>\n",
       "      <td>6</td>\n",
       "      <td>280</td>\n",
       "      <td>sant gervasi - galvany</td>\n",
       "      <td>26.0</td>\n",
       "      <td>15.275452</td>\n",
       "    </tr>\n",
       "    <tr>\n",
       "      <th>12061</th>\n",
       "      <td>12061</td>\n",
       "      <td>Travessera de Gràcia, Sant Gervasi- Galvany</td>\n",
       "      <td>2</td>\n",
       "      <td>Apartment</td>\n",
       "      <td>Flat</td>\n",
       "      <td>NaN</td>\n",
       "      <td>2020-12-14</td>\n",
       "      <td>594</td>\n",
       "      <td>0</td>\n",
       "      <td>False</td>\n",
       "      <td>...</td>\n",
       "      <td>/es/alquiler/vivienda/barcelona-capital/aire-a...</td>\n",
       "      <td>2.147670</td>\n",
       "      <td>6073.0</td>\n",
       "      <td>Homelike</td>\n",
       "      <td>9202762567099</td>\n",
       "      <td>4</td>\n",
       "      <td>100</td>\n",
       "      <td>sant gervasi - galvany</td>\n",
       "      <td>26.0</td>\n",
       "      <td>15.275452</td>\n",
       "    </tr>\n",
       "    <tr>\n",
       "      <th>12116</th>\n",
       "      <td>12116</td>\n",
       "      <td>Sant Gervasi- Galvany</td>\n",
       "      <td>7</td>\n",
       "      <td>House_Chalet</td>\n",
       "      <td>Flat</td>\n",
       "      <td>2.0</td>\n",
       "      <td>2020-12-14</td>\n",
       "      <td>0</td>\n",
       "      <td>0</td>\n",
       "      <td>False</td>\n",
       "      <td>...</td>\n",
       "      <td>/es/alquiler/vivienda/barcelona-capital/aire-a...</td>\n",
       "      <td>2.137248</td>\n",
       "      <td>9000.0</td>\n",
       "      <td>FINQUES CANO PUJOL</td>\n",
       "      <td>9202754523646</td>\n",
       "      <td>8</td>\n",
       "      <td>560</td>\n",
       "      <td>sant gervasi - galvany</td>\n",
       "      <td>26.0</td>\n",
       "      <td>15.275452</td>\n",
       "    </tr>\n",
       "  </tbody>\n",
       "</table>\n",
       "<p>2268 rows × 21 columns</p>\n",
       "</div>"
      ],
      "text/plain": [
       "          id                                      address  bathrooms  \\\n",
       "39        39               Carrer de Picalquers, El Raval          1   \n",
       "40        40               Carrer de Picalquers, El Raval          1   \n",
       "41        41               Carrer de Picalquers, El Raval          1   \n",
       "42        42               Carrer de Picalquers, El Raval          1   \n",
       "43        43               Carrer de Picalquers, El Raval          1   \n",
       "...      ...                                          ...        ...   \n",
       "11803  11803                                       Sarrià          2   \n",
       "11804  11804                                       Sarrià          2   \n",
       "12007  12007                        Sant Gervasi- Galvany          5   \n",
       "12061  12061  Travessera de Gràcia, Sant Gervasi- Galvany          2   \n",
       "12116  12116                        Sant Gervasi- Galvany          7   \n",
       "\n",
       "      building_subtype building_type  conservation_state        date  \\\n",
       "39           Apartment          Flat                 NaN  2020-12-14   \n",
       "40           Apartment          Flat                 NaN  2020-12-14   \n",
       "41           Apartment          Flat                 NaN  2020-12-14   \n",
       "42           Apartment          Flat                 NaN  2020-12-14   \n",
       "43           Apartment          Flat                 NaN  2020-12-14   \n",
       "...                ...           ...                 ...         ...   \n",
       "11803            Attic          Flat                 1.0  2020-12-14   \n",
       "11804            Attic          Flat                 1.0  2020-12-14   \n",
       "12007             Flat          Flat                 2.0  2020-12-14   \n",
       "12061        Apartment          Flat                 NaN  2020-12-14   \n",
       "12116     House_Chalet          Flat                 2.0  2020-12-14   \n",
       "\n",
       "       discount  floor_elevator  is_new_construction  ...  \\\n",
       "39            0               0                False  ...   \n",
       "40            0               0                False  ...   \n",
       "41            0               0                False  ...   \n",
       "42            0               0                False  ...   \n",
       "43            0               0                False  ...   \n",
       "...         ...             ...                  ...  ...   \n",
       "11803       200               1                False  ...   \n",
       "11804       200               1                False  ...   \n",
       "12007         0               1                False  ...   \n",
       "12061       594               0                False  ...   \n",
       "12116         0               0                False  ...   \n",
       "\n",
       "                                                    link longitude   price  \\\n",
       "39     /es/alquiler/vivienda/barcelona-capital/el-rav...  2.168707   525.0   \n",
       "40     /es/alquiler/vivienda/barcelona-capital/el-rav...  2.168707   525.0   \n",
       "41     /es/alquiler/vivienda/barcelona-capital/el-rav...  2.168707   525.0   \n",
       "42     /es/alquiler/vivienda/barcelona-capital/el-rav...  2.168707   525.0   \n",
       "43     /es/alquiler/vivienda/barcelona-capital/el-rav...  2.168707   525.0   \n",
       "...                                                  ...       ...     ...   \n",
       "11803  /es/alquiler/vivienda/barcelona-capital/aire-a...  2.121359  3700.0   \n",
       "11804  /es/alquiler/vivienda/barcelona-capital/aire-a...  2.121359  3700.0   \n",
       "12007  /es/alquiler/vivienda/barcelona-capital/aire-a...  2.141838  5300.0   \n",
       "12061  /es/alquiler/vivienda/barcelona-capital/aire-a...  2.147670  6073.0   \n",
       "12116  /es/alquiler/vivienda/barcelona-capital/aire-a...  2.137248  9000.0   \n",
       "\n",
       "                                              realestate  realestate_id  \\\n",
       "39     INVERSIONES INMOBILIARIAS Y FINANCIERAS SANT A...  9202758138526   \n",
       "40     INVERSIONES INMOBILIARIAS Y FINANCIERAS SANT A...  9202758138526   \n",
       "41     INVERSIONES INMOBILIARIAS Y FINANCIERAS SANT A...  9202758138526   \n",
       "42     INVERSIONES INMOBILIARIAS Y FINANCIERAS SANT A...  9202758138526   \n",
       "43     INVERSIONES INMOBILIARIAS Y FINANCIERAS SANT A...  9202758138526   \n",
       "...                                                  ...            ...   \n",
       "11803                   Stipek Ferrer Premium Properties  9202765377715   \n",
       "11804                   Stipek Ferrer Premium Properties  9202765377715   \n",
       "12007                                         Max Ricart  9202765879322   \n",
       "12061                                           Homelike  9202762567099   \n",
       "12116                                 FINQUES CANO PUJOL  9202754523646   \n",
       "\n",
       "       rooms  sqft_m2           neighbourhood id_neighbourhood  \\\n",
       "39         0       35                el raval              1.0   \n",
       "40         0       35                el raval              1.0   \n",
       "41         0       35                el raval              1.0   \n",
       "42         0       35                el raval              1.0   \n",
       "43         0       35                el raval              1.0   \n",
       "...      ...      ...                     ...              ...   \n",
       "11803      4      280                  sarrià             23.0   \n",
       "11804      4      280                  sarrià             23.0   \n",
       "12007      6      280  sant gervasi - galvany             26.0   \n",
       "12061      4      100  sant gervasi - galvany             26.0   \n",
       "12116      8      560  sant gervasi - galvany             26.0   \n",
       "\n",
       "       neighb_meanprice  \n",
       "39            14.323614  \n",
       "40            14.323614  \n",
       "41            14.323614  \n",
       "42            14.323614  \n",
       "43            14.323614  \n",
       "...                 ...  \n",
       "11803         16.866645  \n",
       "11804         16.866645  \n",
       "12007         15.275452  \n",
       "12061         15.275452  \n",
       "12116         15.275452  \n",
       "\n",
       "[2268 rows x 21 columns]"
      ]
     },
     "execution_count": 359,
     "metadata": {},
     "output_type": "execute_result"
    }
   ],
   "source": [
    "apartments = pd.read_csv('data_final_id.csv')\n",
    "apartments.loc[apartments.duplicated('link')]\n"
   ]
  },
  {
   "cell_type": "code",
   "execution_count": 360,
   "metadata": {},
   "outputs": [],
   "source": [
    "apartments = apartments.drop_duplicates('link')"
   ]
  },
  {
   "cell_type": "markdown",
   "metadata": {},
   "source": [
    "### Neteja de dades"
   ]
  },
  {
   "cell_type": "code",
   "execution_count": 361,
   "metadata": {},
   "outputs": [
    {
     "data": {
      "text/plain": [
       "id                        0\n",
       "address                   0\n",
       "bathrooms                 0\n",
       "building_subtype          0\n",
       "building_type             0\n",
       "conservation_state     5340\n",
       "date                      0\n",
       "discount                  0\n",
       "floor_elevator            0\n",
       "is_new_construction       0\n",
       "latitude                  0\n",
       "link                      0\n",
       "longitude                 0\n",
       "price                     4\n",
       "realestate              106\n",
       "realestate_id             0\n",
       "rooms                     0\n",
       "sqft_m2                   0\n",
       "neighbourhood             1\n",
       "id_neighbourhood          1\n",
       "neighb_meanprice          1\n",
       "dtype: int64"
      ]
     },
     "execution_count": 361,
     "metadata": {},
     "output_type": "execute_result"
    }
   ],
   "source": [
    "\n",
    "apartments = apartments.astype({\n",
    "    'conservation_state': 'category',\n",
    "    'building_subtype': 'category',\n",
    "    'building_type': 'category',\n",
    "    'floor_elevator': 'bool',\n",
    "    'neighbourhood':'category',\n",
    "    'id_neighbourhood':'category'\n",
    "})\n",
    "apartments.isna().sum()\n"
   ]
  },
  {
   "cell_type": "markdown",
   "metadata": {},
   "source": [
    "Veiem que molts habitatges no tenen informació sobre l'estat de conservació. Omplirem amb -1 aquells que no en tinguin:\n",
    "\n"
   ]
  },
  {
   "cell_type": "code",
   "execution_count": 362,
   "metadata": {},
   "outputs": [],
   "source": [
    "apartments['conservation_state'] = apartments['conservation_state'].cat.add_categories(-1)\n",
    "apartments['conservation_state'] = apartments['conservation_state'].fillna(-1)"
   ]
  },
  {
   "cell_type": "code",
   "execution_count": 363,
   "metadata": {},
   "outputs": [
    {
     "data": {
      "text/plain": [
       "id                     0\n",
       "address                0\n",
       "bathrooms              0\n",
       "building_subtype       0\n",
       "building_type          0\n",
       "conservation_state     0\n",
       "date                   0\n",
       "discount               0\n",
       "floor_elevator         0\n",
       "is_new_construction    0\n",
       "latitude               0\n",
       "link                   0\n",
       "longitude              0\n",
       "price                  0\n",
       "realestate             0\n",
       "realestate_id          0\n",
       "rooms                  0\n",
       "sqft_m2                0\n",
       "neighbourhood          1\n",
       "id_neighbourhood       1\n",
       "neighb_meanprice       1\n",
       "dtype: int64"
      ]
     },
     "execution_count": 363,
     "metadata": {},
     "output_type": "execute_result"
    }
   ],
   "source": [
    "apartments = apartments.dropna(subset=['realestate'])\n",
    "apartments = apartments.dropna(subset=['price'])\n",
    "apartments.isna().sum()"
   ]
  },
  {
   "cell_type": "markdown",
   "metadata": {},
   "source": [
    "Finalment, ens queda omplir manualment les observacions que no tenen barri, de nou, mitjançant l'enllaç de Fotocasa per veure si podem determinar aquesta informació:\n",
    "\n"
   ]
  },
  {
   "cell_type": "code",
   "execution_count": 364,
   "metadata": {},
   "outputs": [
    {
     "data": {
      "text/html": [
       "<div>\n",
       "<style scoped>\n",
       "    .dataframe tbody tr th:only-of-type {\n",
       "        vertical-align: middle;\n",
       "    }\n",
       "\n",
       "    .dataframe tbody tr th {\n",
       "        vertical-align: top;\n",
       "    }\n",
       "\n",
       "    .dataframe thead th {\n",
       "        text-align: right;\n",
       "    }\n",
       "</style>\n",
       "<table border=\"1\" class=\"dataframe\">\n",
       "  <thead>\n",
       "    <tr style=\"text-align: right;\">\n",
       "      <th></th>\n",
       "      <th>id</th>\n",
       "      <th>address</th>\n",
       "      <th>bathrooms</th>\n",
       "      <th>building_subtype</th>\n",
       "      <th>building_type</th>\n",
       "      <th>conservation_state</th>\n",
       "      <th>date</th>\n",
       "      <th>discount</th>\n",
       "      <th>floor_elevator</th>\n",
       "      <th>is_new_construction</th>\n",
       "      <th>...</th>\n",
       "      <th>link</th>\n",
       "      <th>longitude</th>\n",
       "      <th>price</th>\n",
       "      <th>realestate</th>\n",
       "      <th>realestate_id</th>\n",
       "      <th>rooms</th>\n",
       "      <th>sqft_m2</th>\n",
       "      <th>neighbourhood</th>\n",
       "      <th>id_neighbourhood</th>\n",
       "      <th>neighb_meanprice</th>\n",
       "    </tr>\n",
       "  </thead>\n",
       "  <tbody>\n",
       "    <tr>\n",
       "      <th>1384</th>\n",
       "      <td>1384</td>\n",
       "      <td>Carrer de la Mare de Déu de Port, La Marina de...</td>\n",
       "      <td>1</td>\n",
       "      <td>Flat</td>\n",
       "      <td>Flat</td>\n",
       "      <td>-1.0</td>\n",
       "      <td>2020-12-14</td>\n",
       "      <td>0</td>\n",
       "      <td>False</td>\n",
       "      <td>False</td>\n",
       "      <td>...</td>\n",
       "      <td>/es/alquiler/vivienda/barcelona-capital/la-mar...</td>\n",
       "      <td>2.148532</td>\n",
       "      <td>750.0</td>\n",
       "      <td>FINCAS LAFONT</td>\n",
       "      <td>9202763692267</td>\n",
       "      <td>3</td>\n",
       "      <td>70</td>\n",
       "      <td>NaN</td>\n",
       "      <td>NaN</td>\n",
       "      <td>NaN</td>\n",
       "    </tr>\n",
       "  </tbody>\n",
       "</table>\n",
       "<p>1 rows × 21 columns</p>\n",
       "</div>"
      ],
      "text/plain": [
       "        id                                            address  bathrooms  \\\n",
       "1384  1384  Carrer de la Mare de Déu de Port, La Marina de...          1   \n",
       "\n",
       "     building_subtype building_type conservation_state        date  discount  \\\n",
       "1384             Flat          Flat               -1.0  2020-12-14         0   \n",
       "\n",
       "      floor_elevator  is_new_construction  ...  \\\n",
       "1384           False                False  ...   \n",
       "\n",
       "                                                   link longitude  price  \\\n",
       "1384  /es/alquiler/vivienda/barcelona-capital/la-mar...  2.148532  750.0   \n",
       "\n",
       "         realestate  realestate_id  rooms  sqft_m2  neighbourhood  \\\n",
       "1384  FINCAS LAFONT  9202763692267      3       70            NaN   \n",
       "\n",
       "     id_neighbourhood neighb_meanprice  \n",
       "1384              NaN              NaN  \n",
       "\n",
       "[1 rows x 21 columns]"
      ]
     },
     "execution_count": 364,
     "metadata": {},
     "output_type": "execute_result"
    }
   ],
   "source": [
    "apartments[apartments.neighbourhood.isna()]"
   ]
  },
  {
   "cell_type": "code",
   "execution_count": 365,
   "metadata": {},
   "outputs": [],
   "source": [
    "marina = apartments[apartments['neighbourhood']=='la marina de port'].head(1)\n",
    "\n",
    "apartments.loc[apartments.id ==1384, 'neighbourhood'] = 'la marina de port'\n",
    "apartments.loc[apartments.id ==1384, 'neighb_meanprice'] = marina['neighb_meanprice'].values[0]\n",
    "apartments.loc[apartments.id ==1384, 'id_neighbourhood'] = marina['id_neighbourhood'].values[0]"
   ]
  },
  {
   "cell_type": "markdown",
   "metadata": {},
   "source": [
    "### Outliers"
   ]
  },
  {
   "cell_type": "markdown",
   "metadata": {},
   "source": [
    "El que primer farem, serà visualitzar a gràfics de tipus boxplot cadascuna de les variables quantitatives per tal de determinar si tenim o no outliers:\n",
    "\n"
   ]
  },
  {
   "cell_type": "code",
   "execution_count": 366,
   "metadata": {},
   "outputs": [
    {
     "data": {
      "image/png": "[encoded data removed]",
      "text/plain": [
       "<Figure size 1152x720 with 10 Axes>"
      ]
     },
     "metadata": {
      "needs_background": "light"
     },
     "output_type": "display_data"
    }
   ],
   "source": [
    "import matplotlib.pyplot as plt\n",
    "import matplotlib.colors as colors\n",
    "import numpy as np\n",
    "import math\n",
    "\n",
    "fig = plt.figure(figsize=(16,10))\n",
    "numeric_attributes = apartments.select_dtypes(include=np.number).columns\n",
    "for idx, column in enumerate(numeric_attributes):\n",
    "    ax = fig.add_subplot(2, math.ceil(len(numeric_attributes)/2), idx+1)\n",
    "    ax.boxplot(apartments[[column]], labels=[column])"
   ]
  },
  {
   "cell_type": "markdown",
   "metadata": {},
   "source": [
    "Eliminem les que tinguin un descompte més elevat que el preu "
   ]
  },
  {
   "cell_type": "code",
   "execution_count": 367,
   "metadata": {},
   "outputs": [],
   "source": [
    "apartments = apartments[apartments.discount < apartments.price]\n",
    "apartments = apartments[apartments.price < 10000]"
   ]
  },
  {
   "cell_type": "markdown",
   "metadata": {},
   "source": [
    "Arreglem les dades de la longitud/latitud:"
   ]
  },
  {
   "cell_type": "code",
   "execution_count": 368,
   "metadata": {},
   "outputs": [],
   "source": [
    "apartments.loc[apartments['latitude'] > 100, 'latitude'] = apartments['latitude']/1000\n",
    "apartments.loc[apartments['longitude'] > 100, 'longitude'] = apartments['longitude']/1000"
   ]
  },
  {
   "cell_type": "markdown",
   "metadata": {},
   "source": [
    "Arreglem les dades de bathroom:"
   ]
  },
  {
   "cell_type": "code",
   "execution_count": 369,
   "metadata": {},
   "outputs": [
    {
     "data": {
      "text/plain": [
       "1901"
      ]
     },
     "execution_count": 369,
     "metadata": {},
     "output_type": "execute_result"
    }
   ],
   "source": [
    "apartments.bathrooms.max()"
   ]
  },
  {
   "cell_type": "code",
   "execution_count": 370,
   "metadata": {},
   "outputs": [
    {
     "data": {
      "text/plain": [
       "8"
      ]
     },
     "execution_count": 370,
     "metadata": {},
     "output_type": "execute_result"
    }
   ],
   "source": [
    "apartments = apartments.drop(index=10875)\n",
    "apartments.bathrooms.max()"
   ]
  },
  {
   "cell_type": "code",
   "execution_count": 371,
   "metadata": {},
   "outputs": [],
   "source": [
    "apartments = apartments[apartments['sqft_m2'] != 0]"
   ]
  },
  {
   "cell_type": "markdown",
   "metadata": {},
   "source": [
    "### Transformació de dades\n",
    "\n",
    "Afegirem una nova variable que calculi la diferència de cada habitatge sobre el preu mig del barri:\n",
    "\n"
   ]
  },
  {
   "cell_type": "code",
   "execution_count": 372,
   "metadata": {},
   "outputs": [],
   "source": [
    "apartments['diff_mitjana'] = ((apartments['price']/(apartments.neighb_meanprice*apartments.sqft_m2))-1)*100"
   ]
  },
  {
   "cell_type": "markdown",
   "metadata": {},
   "source": [
    "### Construïm les dades finals:"
   ]
  },
  {
   "cell_type": "code",
   "execution_count": 373,
   "metadata": {},
   "outputs": [
    {
     "data": {
      "text/html": [
       "<div>\n",
       "<style scoped>\n",
       "    .dataframe tbody tr th:only-of-type {\n",
       "        vertical-align: middle;\n",
       "    }\n",
       "\n",
       "    .dataframe tbody tr th {\n",
       "        vertical-align: top;\n",
       "    }\n",
       "\n",
       "    .dataframe thead th {\n",
       "        text-align: right;\n",
       "    }\n",
       "</style>\n",
       "<table border=\"1\" class=\"dataframe\">\n",
       "  <thead>\n",
       "    <tr style=\"text-align: right;\">\n",
       "      <th></th>\n",
       "      <th>CODI_UA</th>\n",
       "      <th>diff_mitjana</th>\n",
       "      <th>price</th>\n",
       "      <th>sqft_m2</th>\n",
       "      <th>discount</th>\n",
       "    </tr>\n",
       "  </thead>\n",
       "  <tbody>\n",
       "    <tr>\n",
       "      <th>0</th>\n",
       "      <td>1.0</td>\n",
       "      <td>18.188422</td>\n",
       "      <td>1046.520992</td>\n",
       "      <td>65.929389</td>\n",
       "      <td>59.543893</td>\n",
       "    </tr>\n",
       "    <tr>\n",
       "      <th>1</th>\n",
       "      <td>2.0</td>\n",
       "      <td>33.715622</td>\n",
       "      <td>1406.701843</td>\n",
       "      <td>81.169179</td>\n",
       "      <td>57.237856</td>\n",
       "    </tr>\n",
       "    <tr>\n",
       "      <th>2</th>\n",
       "      <td>3.0</td>\n",
       "      <td>23.942516</td>\n",
       "      <td>970.831050</td>\n",
       "      <td>47.214612</td>\n",
       "      <td>57.456621</td>\n",
       "    </tr>\n",
       "    <tr>\n",
       "      <th>3</th>\n",
       "      <td>4.0</td>\n",
       "      <td>63.485049</td>\n",
       "      <td>1316.905904</td>\n",
       "      <td>72.900369</td>\n",
       "      <td>54.588561</td>\n",
       "    </tr>\n",
       "    <tr>\n",
       "      <th>4</th>\n",
       "      <td>5.0</td>\n",
       "      <td>19.658284</td>\n",
       "      <td>1233.177083</td>\n",
       "      <td>78.088542</td>\n",
       "      <td>42.708333</td>\n",
       "    </tr>\n",
       "    <tr>\n",
       "      <th>...</th>\n",
       "      <td>...</td>\n",
       "      <td>...</td>\n",
       "      <td>...</td>\n",
       "      <td>...</td>\n",
       "      <td>...</td>\n",
       "    </tr>\n",
       "    <tr>\n",
       "      <th>61</th>\n",
       "      <td>68.0</td>\n",
       "      <td>22.040837</td>\n",
       "      <td>1408.461538</td>\n",
       "      <td>82.336996</td>\n",
       "      <td>48.029304</td>\n",
       "    </tr>\n",
       "    <tr>\n",
       "      <th>62</th>\n",
       "      <td>69.0</td>\n",
       "      <td>30.804632</td>\n",
       "      <td>2368.282609</td>\n",
       "      <td>103.684783</td>\n",
       "      <td>55.695652</td>\n",
       "    </tr>\n",
       "    <tr>\n",
       "      <th>63</th>\n",
       "      <td>70.0</td>\n",
       "      <td>34.077455</td>\n",
       "      <td>1204.282051</td>\n",
       "      <td>78.461538</td>\n",
       "      <td>41.282051</td>\n",
       "    </tr>\n",
       "    <tr>\n",
       "      <th>64</th>\n",
       "      <td>72.0</td>\n",
       "      <td>0.076791</td>\n",
       "      <td>892.181818</td>\n",
       "      <td>76.000000</td>\n",
       "      <td>13.848485</td>\n",
       "    </tr>\n",
       "    <tr>\n",
       "      <th>65</th>\n",
       "      <td>73.0</td>\n",
       "      <td>8.352653</td>\n",
       "      <td>873.117647</td>\n",
       "      <td>75.588235</td>\n",
       "      <td>28.823529</td>\n",
       "    </tr>\n",
       "  </tbody>\n",
       "</table>\n",
       "<p>66 rows × 5 columns</p>\n",
       "</div>"
      ],
      "text/plain": [
       "   CODI_UA  diff_mitjana        price     sqft_m2   discount\n",
       "0      1.0     18.188422  1046.520992   65.929389  59.543893\n",
       "1      2.0     33.715622  1406.701843   81.169179  57.237856\n",
       "2      3.0     23.942516   970.831050   47.214612  57.456621\n",
       "3      4.0     63.485049  1316.905904   72.900369  54.588561\n",
       "4      5.0     19.658284  1233.177083   78.088542  42.708333\n",
       "..     ...           ...          ...         ...        ...\n",
       "61    68.0     22.040837  1408.461538   82.336996  48.029304\n",
       "62    69.0     30.804632  2368.282609  103.684783  55.695652\n",
       "63    70.0     34.077455  1204.282051   78.461538  41.282051\n",
       "64    72.0      0.076791   892.181818   76.000000  13.848485\n",
       "65    73.0      8.352653   873.117647   75.588235  28.823529\n",
       "\n",
       "[66 rows x 5 columns]"
      ]
     },
     "execution_count": 373,
     "metadata": {},
     "output_type": "execute_result"
    }
   ],
   "source": [
    "dades_barri = apartments.groupby(['id_neighbourhood']).mean()[['diff_mitjana','price','sqft_m2','discount']]\n",
    "\n",
    "dades_barri = dades_barri.reset_index()\n",
    "dades_barri.rename(columns={'id_neighbourhood':'CODI_UA'}, inplace=True)\n",
    "dades_barri"
   ]
  },
  {
   "cell_type": "code",
   "execution_count": 374,
   "metadata": {},
   "outputs": [],
   "source": [
    "apartments.loc[apartments.realestate.astype(str).str.contains('TECNOCASA'),'realestate'] = 'TECNOCASA'\n",
    "apartments.loc[apartments.realestate.astype(str).str.contains('tecnocasa'),'realestate'] = 'TECNOCASA'\n",
    "realstate_by_neigh = apartments.groupby(['id_neighbourhood','realestate']).size()"
   ]
  },
  {
   "cell_type": "code",
   "execution_count": 375,
   "metadata": {},
   "outputs": [
    {
     "data": {
      "text/plain": [
       "163"
      ]
     },
     "execution_count": 375,
     "metadata": {},
     "output_type": "execute_result"
    }
   ],
   "source": [
    "realstate_by_neigh.max()"
   ]
  },
  {
   "cell_type": "code",
   "execution_count": 376,
   "metadata": {},
   "outputs": [],
   "source": [
    "state_pcts = realstate_by_neigh.groupby(level=0).apply(lambda x:\n",
    "                                                 100 * x / float(x.sum()))\n",
    "\n",
    "majoritary_realstate = state_pcts[state_pcts > 5]"
   ]
  },
  {
   "cell_type": "code",
   "execution_count": 377,
   "metadata": {},
   "outputs": [],
   "source": [
    "dades_barri['CODI_UA'] = dades_barri['CODI_UA'].apply(np.int64)\n",
    "dades_barri['CODI_UA'] = dades_barri['CODI_UA'].apply('{:0>2}'.format)"
   ]
  },
  {
   "cell_type": "code",
   "execution_count": 378,
   "metadata": {},
   "outputs": [],
   "source": [
    "df  = barris.merge(dades_barri, on='CODI_UA', how='left')\n",
    "gdf = gpd.GeoDataFrame(df)\n"
   ]
  },
  {
   "cell_type": "code",
   "execution_count": 380,
   "metadata": {},
   "outputs": [
    {
     "data": {
      "image/png": "[encoded data removed]",
      "text/plain": [
       "<Figure size 432x288 with 2 Axes>"
      ]
     },
     "metadata": {
      "needs_background": "light"
     },
     "output_type": "display_data"
    }
   ],
   "source": [
    "fig, ax = plt.subplots(1, 1)\n",
    "#missing_kwds={\"color\": \"lightgrey\", \"edgecolor\": \"red\",\"hatch\": \"///\",\"label\": \"Missing values\",}\n",
    "gdf.plot(column='diff_mitjana', cmap='OrRd', vmax=100, ax=ax, legend=True);"
   ]
  },
  {
   "cell_type": "code",
   "execution_count": 381,
   "metadata": {},
   "outputs": [
    {
     "data": {
      "image/png": "[encoded data removed]",
      "text/plain": [
       "<Figure size 432x288 with 2 Axes>"
      ]
     },
     "metadata": {
      "needs_background": "light"
     },
     "output_type": "display_data"
    }
   ],
   "source": [
    "fig, ax = plt.subplots(1, 1)\n",
    "gdf.plot(column='sqft_m2',ax=ax, legend=True);"
   ]
  },
  {
   "cell_type": "code",
   "execution_count": 382,
   "metadata": {},
   "outputs": [
    {
     "data": {
      "image/png": "[encoded data removed]",
      "text/plain": [
       "<Figure size 432x288 with 2 Axes>"
      ]
     },
     "metadata": {
      "needs_background": "light"
     },
     "output_type": "display_data"
    }
   ],
   "source": [
    "fig, ax = plt.subplots(1, 1)\n",
    "gdf.plot(column='price', cmap='OrRd', ax=ax, legend=True);"
   ]
  },
  {
   "cell_type": "code",
   "execution_count": 383,
   "metadata": {},
   "outputs": [
    {
     "data": {
      "image/png": "[encoded data removed]",
      "text/plain": [
       "<Figure size 432x288 with 2 Axes>"
      ]
     },
     "metadata": {
      "needs_background": "light"
     },
     "output_type": "display_data"
    }
   ],
   "source": [
    "fig, ax = plt.subplots(1, 1)\n",
    "gdf.plot(column='discount', cmap='OrRd', ax=ax, legend=True);"
   ]
  },
  {
   "cell_type": "code",
   "execution_count": 384,
   "metadata": {},
   "outputs": [],
   "source": [
    "gdf.to_file(\"countries.geojson\", driver='GeoJSON')\n",
    "apartments.to_csv('../csv/data_clean.csv')"
   ]
  },
  {
   "cell_type": "markdown",
   "metadata": {},
   "source": [
    "Canvi en el sistema de coordenades"
   ]
  },
  {
   "cell_type": "code",
   "execution_count": 1,
   "metadata": {},
   "outputs": [],
   "source": [
    "!ogr2ogr -f GeoJSON -s_srs EPSG:25831 -t_srs \"EPSG:4326\" countries_marcatora.geojson countries.geojson "
   ]
  }
 ],
 "metadata": {
  "celltoolbar": "Raw Cell Format",
  "kernelspec": {
   "display_name": "Python 3",
   "language": "python",
   "name": "python3"
  },
  "language_info": {
   "codemirror_mode": {
    "name": "ipython",
    "version": 3
   },
   "file_extension": ".py",
   "mimetype": "text/x-python",
   "name": "python",
   "nbconvert_exporter": "python",
   "pygments_lexer": "ipython3",
   "version": "3.6.9"
  }
 },
 "nbformat": 4,
 "nbformat_minor": 4
}
